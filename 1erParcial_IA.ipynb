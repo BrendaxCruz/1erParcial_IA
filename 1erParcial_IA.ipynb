{
  "nbformat": 4,
  "nbformat_minor": 0,
  "metadata": {
    "colab": {
      "name": "1erParcial_IA.ipynb",
      "provenance": [],
      "collapsed_sections": [],
      "toc_visible": true
    },
    "kernelspec": {
      "name": "python3",
      "display_name": "Python 3"
    },
    "language_info": {
      "name": "python"
    }
  },
  "cells": [
    {
      "cell_type": "markdown",
      "source": [
        "OBJETIVO: Analizar el tiempo en que un estudiante demora en pasar todas la materias de cursos básicos.\n",
        "Grupo de Analisis: alumnos de mecatronica "
      ],
      "metadata": {
        "id": "DqqQ_N1oj7iV"
      }
    },
    {
      "cell_type": "markdown",
      "source": [
        "# PROCESAMIENTO DE DATOS"
      ],
      "metadata": {
        "id": "Env0IFyPI_Nd"
      }
    },
    {
      "cell_type": "code",
      "execution_count": 89,
      "metadata": {
        "id": "xTawvSDPItmE"
      },
      "outputs": [],
      "source": [
        "import os\n",
        "import pandas as pd\n",
        "import numpy as np\n",
        "import matplotlib.pyplot as plt\n",
        "import seaborn as sns"
      ]
    },
    {
      "cell_type": "code",
      "source": [
        "lectura= pd.read_csv(\"datosConcatenadossinCI.csv\")\n",
        "pd.set_option('display.max_columns', None) #para ver todas las columnas, solo se usa una vez\n",
        "pd.set_option('display.max_rows', None) #para ver todas las filas"
      ],
      "metadata": {
        "id": "4QwsPX83JWoZ"
      },
      "execution_count": 90,
      "outputs": []
    },
    {
      "cell_type": "code",
      "source": [
        "lectura.head()"
      ],
      "metadata": {
        "colab": {
          "base_uri": "https://localhost:8080/",
          "height": 287
        },
        "id": "aBI_kc_6XnP7",
        "outputId": "91e2a472-99d0-4abe-c407-986cb1caa229"
      },
      "execution_count": 91,
      "outputs": [
        {
          "output_type": "execute_result",
          "data": {
            "text/plain": [
              "   Unnamed: 0  danho  ciclo  Cod.Asign  Asignatura Cod.Car.Sec  Cod.Curso  \\\n",
              "0           0   2012      1       2402  COMBUSTION  INT9MECANI         13   \n",
              "1           1   2012      1       2402  COMBUSTION  MEC9-OPT           13   \n",
              "2           2   2012      1       2402  COMBUSTION  INT9MECANI         13   \n",
              "3           3   2012      1       2402  COMBUSTION  MEC9-OPT           13   \n",
              "4           4   2012      1       2402  COMBUSTION  MEC9-OPT           13   \n",
              "\n",
              "   Convocatoria  Anho  Semestre Aprobado  Anho.Firma  Primer.Par  Segundo.Par  \\\n",
              "0             1  2012         1        N           0           0            0   \n",
              "1             1  2012         1        S        2012          11           14   \n",
              "2             1  2012         1        S        2012          24           23   \n",
              "3             1  2012         1        S        2012          11           14   \n",
              "4             1  2012         1        N           0          11            4   \n",
              "\n",
              "   AOT  Primer.Rec  Segundo.Rec Nota.Final  Tercer.Par  Asis  Cuarto.Par  \\\n",
              "0    0           0            0        NaN         0.0   1.0         NaN   \n",
              "1    8           0            0       1F-5         0.0   1.0         NaN   \n",
              "2    9           0            0       1F-5         0.0   1.0         NaN   \n",
              "3    8           0            0  1F-1,2F-2         0.0   1.0         NaN   \n",
              "4    8           0            0        NaN         0.0   1.0         NaN   \n",
              "\n",
              "   4P_60 id_anony  \n",
              "0    NaN     es_0  \n",
              "1    NaN     es_1  \n",
              "2    NaN     es_2  \n",
              "3    NaN     es_3  \n",
              "4    NaN     es_4  "
            ],
            "text/html": [
              "\n",
              "  <div id=\"df-9f8255d8-8245-4703-90eb-a56cefc0d76b\">\n",
              "    <div class=\"colab-df-container\">\n",
              "      <div>\n",
              "<style scoped>\n",
              "    .dataframe tbody tr th:only-of-type {\n",
              "        vertical-align: middle;\n",
              "    }\n",
              "\n",
              "    .dataframe tbody tr th {\n",
              "        vertical-align: top;\n",
              "    }\n",
              "\n",
              "    .dataframe thead th {\n",
              "        text-align: right;\n",
              "    }\n",
              "</style>\n",
              "<table border=\"1\" class=\"dataframe\">\n",
              "  <thead>\n",
              "    <tr style=\"text-align: right;\">\n",
              "      <th></th>\n",
              "      <th>Unnamed: 0</th>\n",
              "      <th>danho</th>\n",
              "      <th>ciclo</th>\n",
              "      <th>Cod.Asign</th>\n",
              "      <th>Asignatura</th>\n",
              "      <th>Cod.Car.Sec</th>\n",
              "      <th>Cod.Curso</th>\n",
              "      <th>Convocatoria</th>\n",
              "      <th>Anho</th>\n",
              "      <th>Semestre</th>\n",
              "      <th>Aprobado</th>\n",
              "      <th>Anho.Firma</th>\n",
              "      <th>Primer.Par</th>\n",
              "      <th>Segundo.Par</th>\n",
              "      <th>AOT</th>\n",
              "      <th>Primer.Rec</th>\n",
              "      <th>Segundo.Rec</th>\n",
              "      <th>Nota.Final</th>\n",
              "      <th>Tercer.Par</th>\n",
              "      <th>Asis</th>\n",
              "      <th>Cuarto.Par</th>\n",
              "      <th>4P_60</th>\n",
              "      <th>id_anony</th>\n",
              "    </tr>\n",
              "  </thead>\n",
              "  <tbody>\n",
              "    <tr>\n",
              "      <th>0</th>\n",
              "      <td>0</td>\n",
              "      <td>2012</td>\n",
              "      <td>1</td>\n",
              "      <td>2402</td>\n",
              "      <td>COMBUSTION</td>\n",
              "      <td>INT9MECANI</td>\n",
              "      <td>13</td>\n",
              "      <td>1</td>\n",
              "      <td>2012</td>\n",
              "      <td>1</td>\n",
              "      <td>N</td>\n",
              "      <td>0</td>\n",
              "      <td>0</td>\n",
              "      <td>0</td>\n",
              "      <td>0</td>\n",
              "      <td>0</td>\n",
              "      <td>0</td>\n",
              "      <td>NaN</td>\n",
              "      <td>0.0</td>\n",
              "      <td>1.0</td>\n",
              "      <td>NaN</td>\n",
              "      <td>NaN</td>\n",
              "      <td>es_0</td>\n",
              "    </tr>\n",
              "    <tr>\n",
              "      <th>1</th>\n",
              "      <td>1</td>\n",
              "      <td>2012</td>\n",
              "      <td>1</td>\n",
              "      <td>2402</td>\n",
              "      <td>COMBUSTION</td>\n",
              "      <td>MEC9-OPT</td>\n",
              "      <td>13</td>\n",
              "      <td>1</td>\n",
              "      <td>2012</td>\n",
              "      <td>1</td>\n",
              "      <td>S</td>\n",
              "      <td>2012</td>\n",
              "      <td>11</td>\n",
              "      <td>14</td>\n",
              "      <td>8</td>\n",
              "      <td>0</td>\n",
              "      <td>0</td>\n",
              "      <td>1F-5</td>\n",
              "      <td>0.0</td>\n",
              "      <td>1.0</td>\n",
              "      <td>NaN</td>\n",
              "      <td>NaN</td>\n",
              "      <td>es_1</td>\n",
              "    </tr>\n",
              "    <tr>\n",
              "      <th>2</th>\n",
              "      <td>2</td>\n",
              "      <td>2012</td>\n",
              "      <td>1</td>\n",
              "      <td>2402</td>\n",
              "      <td>COMBUSTION</td>\n",
              "      <td>INT9MECANI</td>\n",
              "      <td>13</td>\n",
              "      <td>1</td>\n",
              "      <td>2012</td>\n",
              "      <td>1</td>\n",
              "      <td>S</td>\n",
              "      <td>2012</td>\n",
              "      <td>24</td>\n",
              "      <td>23</td>\n",
              "      <td>9</td>\n",
              "      <td>0</td>\n",
              "      <td>0</td>\n",
              "      <td>1F-5</td>\n",
              "      <td>0.0</td>\n",
              "      <td>1.0</td>\n",
              "      <td>NaN</td>\n",
              "      <td>NaN</td>\n",
              "      <td>es_2</td>\n",
              "    </tr>\n",
              "    <tr>\n",
              "      <th>3</th>\n",
              "      <td>3</td>\n",
              "      <td>2012</td>\n",
              "      <td>1</td>\n",
              "      <td>2402</td>\n",
              "      <td>COMBUSTION</td>\n",
              "      <td>MEC9-OPT</td>\n",
              "      <td>13</td>\n",
              "      <td>1</td>\n",
              "      <td>2012</td>\n",
              "      <td>1</td>\n",
              "      <td>S</td>\n",
              "      <td>2012</td>\n",
              "      <td>11</td>\n",
              "      <td>14</td>\n",
              "      <td>8</td>\n",
              "      <td>0</td>\n",
              "      <td>0</td>\n",
              "      <td>1F-1,2F-2</td>\n",
              "      <td>0.0</td>\n",
              "      <td>1.0</td>\n",
              "      <td>NaN</td>\n",
              "      <td>NaN</td>\n",
              "      <td>es_3</td>\n",
              "    </tr>\n",
              "    <tr>\n",
              "      <th>4</th>\n",
              "      <td>4</td>\n",
              "      <td>2012</td>\n",
              "      <td>1</td>\n",
              "      <td>2402</td>\n",
              "      <td>COMBUSTION</td>\n",
              "      <td>MEC9-OPT</td>\n",
              "      <td>13</td>\n",
              "      <td>1</td>\n",
              "      <td>2012</td>\n",
              "      <td>1</td>\n",
              "      <td>N</td>\n",
              "      <td>0</td>\n",
              "      <td>11</td>\n",
              "      <td>4</td>\n",
              "      <td>8</td>\n",
              "      <td>0</td>\n",
              "      <td>0</td>\n",
              "      <td>NaN</td>\n",
              "      <td>0.0</td>\n",
              "      <td>1.0</td>\n",
              "      <td>NaN</td>\n",
              "      <td>NaN</td>\n",
              "      <td>es_4</td>\n",
              "    </tr>\n",
              "  </tbody>\n",
              "</table>\n",
              "</div>\n",
              "      <button class=\"colab-df-convert\" onclick=\"convertToInteractive('df-9f8255d8-8245-4703-90eb-a56cefc0d76b')\"\n",
              "              title=\"Convert this dataframe to an interactive table.\"\n",
              "              style=\"display:none;\">\n",
              "        \n",
              "  <svg xmlns=\"http://www.w3.org/2000/svg\" height=\"24px\"viewBox=\"0 0 24 24\"\n",
              "       width=\"24px\">\n",
              "    <path d=\"M0 0h24v24H0V0z\" fill=\"none\"/>\n",
              "    <path d=\"M18.56 5.44l.94 2.06.94-2.06 2.06-.94-2.06-.94-.94-2.06-.94 2.06-2.06.94zm-11 1L8.5 8.5l.94-2.06 2.06-.94-2.06-.94L8.5 2.5l-.94 2.06-2.06.94zm10 10l.94 2.06.94-2.06 2.06-.94-2.06-.94-.94-2.06-.94 2.06-2.06.94z\"/><path d=\"M17.41 7.96l-1.37-1.37c-.4-.4-.92-.59-1.43-.59-.52 0-1.04.2-1.43.59L10.3 9.45l-7.72 7.72c-.78.78-.78 2.05 0 2.83L4 21.41c.39.39.9.59 1.41.59.51 0 1.02-.2 1.41-.59l7.78-7.78 2.81-2.81c.8-.78.8-2.07 0-2.86zM5.41 20L4 18.59l7.72-7.72 1.47 1.35L5.41 20z\"/>\n",
              "  </svg>\n",
              "      </button>\n",
              "      \n",
              "  <style>\n",
              "    .colab-df-container {\n",
              "      display:flex;\n",
              "      flex-wrap:wrap;\n",
              "      gap: 12px;\n",
              "    }\n",
              "\n",
              "    .colab-df-convert {\n",
              "      background-color: #E8F0FE;\n",
              "      border: none;\n",
              "      border-radius: 50%;\n",
              "      cursor: pointer;\n",
              "      display: none;\n",
              "      fill: #1967D2;\n",
              "      height: 32px;\n",
              "      padding: 0 0 0 0;\n",
              "      width: 32px;\n",
              "    }\n",
              "\n",
              "    .colab-df-convert:hover {\n",
              "      background-color: #E2EBFA;\n",
              "      box-shadow: 0px 1px 2px rgba(60, 64, 67, 0.3), 0px 1px 3px 1px rgba(60, 64, 67, 0.15);\n",
              "      fill: #174EA6;\n",
              "    }\n",
              "\n",
              "    [theme=dark] .colab-df-convert {\n",
              "      background-color: #3B4455;\n",
              "      fill: #D2E3FC;\n",
              "    }\n",
              "\n",
              "    [theme=dark] .colab-df-convert:hover {\n",
              "      background-color: #434B5C;\n",
              "      box-shadow: 0px 1px 3px 1px rgba(0, 0, 0, 0.15);\n",
              "      filter: drop-shadow(0px 1px 2px rgba(0, 0, 0, 0.3));\n",
              "      fill: #FFFFFF;\n",
              "    }\n",
              "  </style>\n",
              "\n",
              "      <script>\n",
              "        const buttonEl =\n",
              "          document.querySelector('#df-9f8255d8-8245-4703-90eb-a56cefc0d76b button.colab-df-convert');\n",
              "        buttonEl.style.display =\n",
              "          google.colab.kernel.accessAllowed ? 'block' : 'none';\n",
              "\n",
              "        async function convertToInteractive(key) {\n",
              "          const element = document.querySelector('#df-9f8255d8-8245-4703-90eb-a56cefc0d76b');\n",
              "          const dataTable =\n",
              "            await google.colab.kernel.invokeFunction('convertToInteractive',\n",
              "                                                     [key], {});\n",
              "          if (!dataTable) return;\n",
              "\n",
              "          const docLinkHtml = 'Like what you see? Visit the ' +\n",
              "            '<a target=\"_blank\" href=https://colab.research.google.com/notebooks/data_table.ipynb>data table notebook</a>'\n",
              "            + ' to learn more about interactive tables.';\n",
              "          element.innerHTML = '';\n",
              "          dataTable['output_type'] = 'display_data';\n",
              "          await google.colab.output.renderOutput(dataTable, element);\n",
              "          const docLink = document.createElement('div');\n",
              "          docLink.innerHTML = docLinkHtml;\n",
              "          element.appendChild(docLink);\n",
              "        }\n",
              "      </script>\n",
              "    </div>\n",
              "  </div>\n",
              "  "
            ]
          },
          "metadata": {},
          "execution_count": 91
        }
      ]
    },
    {
      "cell_type": "code",
      "source": [
        "lectura.info()\n"
      ],
      "metadata": {
        "id": "_mDP4pt4MOF_",
        "colab": {
          "base_uri": "https://localhost:8080/"
        },
        "outputId": "bb395561-3e0f-4d02-aa8e-235fa6c2c8e2"
      },
      "execution_count": 92,
      "outputs": [
        {
          "output_type": "stream",
          "name": "stdout",
          "text": [
            "<class 'pandas.core.frame.DataFrame'>\n",
            "RangeIndex: 221822 entries, 0 to 221821\n",
            "Data columns (total 23 columns):\n",
            " #   Column        Non-Null Count   Dtype  \n",
            "---  ------        --------------   -----  \n",
            " 0   Unnamed: 0    221822 non-null  int64  \n",
            " 1   danho         221822 non-null  int64  \n",
            " 2   ciclo         221822 non-null  int64  \n",
            " 3   Cod.Asign     221822 non-null  int64  \n",
            " 4   Asignatura    221822 non-null  object \n",
            " 5   Cod.Car.Sec   221822 non-null  object \n",
            " 6   Cod.Curso     221822 non-null  int64  \n",
            " 7   Convocatoria  221822 non-null  int64  \n",
            " 8   Anho          221822 non-null  int64  \n",
            " 9   Semestre      221822 non-null  int64  \n",
            " 10  Aprobado      221822 non-null  object \n",
            " 11  Anho.Firma    221822 non-null  int64  \n",
            " 12  Primer.Par    221822 non-null  int64  \n",
            " 13  Segundo.Par   221822 non-null  int64  \n",
            " 14  AOT           221822 non-null  int64  \n",
            " 15  Primer.Rec    221822 non-null  int64  \n",
            " 16  Segundo.Rec   221822 non-null  int64  \n",
            " 17  Nota.Final    137062 non-null  object \n",
            " 18  Tercer.Par    221822 non-null  float64\n",
            " 19  Asis          221822 non-null  float64\n",
            " 20  Cuarto.Par    28037 non-null   float64\n",
            " 21  4P_60         28037 non-null   float64\n",
            " 22  id_anony      221822 non-null  object \n",
            "dtypes: float64(4), int64(14), object(5)\n",
            "memory usage: 38.9+ MB\n"
          ]
        }
      ]
    },
    {
      "cell_type": "code",
      "source": [
        "np.unique(lectura[\"Cod.Car.Sec\"])"
      ],
      "metadata": {
        "id": "LPPgsonnN6XN",
        "colab": {
          "base_uri": "https://localhost:8080/"
        },
        "outputId": "3d659fb4-0f5b-44b8-fecc-925f523958d4"
      },
      "execution_count": 93,
      "outputs": [
        {
          "output_type": "execute_result",
          "data": {
            "text/plain": [
              "array(['CGF-175-09', 'CGF-PLS09 ', 'CGF-PLS13 ', 'CIV-175-09',\n",
              "       'CIV-PLS09 ', 'CIV-PLS13 ', 'ECA-175-09', 'ECA-PLS09 ',\n",
              "       'ECA-PLS13 ', 'ECA9-OPT  ', 'ELE-175-09', 'ELE-PLS09 ',\n",
              "       'ELE-PLS13 ', 'IND-175-09', 'IND-PLS09 ', 'IND-PLS13 ',\n",
              "       'INT9-PROYT', 'INT9CONSTR', 'INT9ELECTR', 'INT9G-ECO ',\n",
              "       'INT9MECANI', 'INT9ORTERR', 'INT9RNYMA ', 'INT9SANEHI',\n",
              "       'INT9SDIGYT', 'INT9TRANSP', 'MCT-175-09', 'MCT-PLS09 ',\n",
              "       'MCT-PLS13 ', 'MCT9-OPT  ', 'MEC-175-09', 'MEC-PLS09 ',\n",
              "       'MEC-PLS13 ', 'MEC9-OPT  ', 'TIVAS     '], dtype=object)"
            ]
          },
          "metadata": {},
          "execution_count": 93
        }
      ]
    },
    {
      "cell_type": "code",
      "source": [
        "carrera=pd.DataFrame(columns=lectura.columns) # carrera es un dataframe\n",
        "for car in ['MCT-175-09', 'MCT-PLS09 ','MCT-PLS13 ', 'MCT9-OPT  ']:\n",
        "     carrera=pd.concat([carrera, lectura[lectura[\"Cod.Car.Sec\"]==car]], axis=0)"
      ],
      "metadata": {
        "id": "0Wa5viVETeiL"
      },
      "execution_count": 94,
      "outputs": []
    },
    {
      "cell_type": "code",
      "source": [
        "np.unique(carrera[\"Cod.Car.Sec\"])\n"
      ],
      "metadata": {
        "colab": {
          "base_uri": "https://localhost:8080/"
        },
        "id": "ZbZdctt7T52d",
        "outputId": "094fed78-4db5-425e-c05b-221cda420640"
      },
      "execution_count": 95,
      "outputs": [
        {
          "output_type": "execute_result",
          "data": {
            "text/plain": [
              "array(['MCT-175-09', 'MCT-PLS09 ', 'MCT-PLS13 ', 'MCT9-OPT  '],\n",
              "      dtype=object)"
            ]
          },
          "metadata": {},
          "execution_count": 95
        }
      ]
    },
    {
      "cell_type": "code",
      "source": [
        "allasig= np.unique(carrera['Asignatura']) \n",
        "print(allasig)\n"
      ],
      "metadata": {
        "id": "5bjzdVSLpA1_",
        "colab": {
          "base_uri": "https://localhost:8080/"
        },
        "outputId": "af15cd34-2b4f-4326-e536-41179daed839"
      },
      "execution_count": 96,
      "outputs": [
        {
          "output_type": "stream",
          "name": "stdout",
          "text": [
            "['ACTUADORES Y MAQ. ELECTRICAS 1' 'ACTUADORES Y MAQUINAS ELECTRICAS'\n",
            " 'ALGEBRA LINEAL 1' 'ALGEBRA LINEAL 2' 'ALGORITMOS' 'ALGORITMOS 1'\n",
            " 'ALGORITMOS 2' 'AUTOMOTORES' 'BASE DE DATOS' 'CALCULO 1' 'CALCULO 2'\n",
            " 'CALCULO 3' 'CALCULO 5' 'COMPUTACION' 'CONTABILIDAD Y FINANZAS'\n",
            " 'CONTROL NUMERICO COMPUTARIZADO' 'CONTROLADORES LOGICOS'\n",
            " 'DIBUJO MECANICO' 'DIBUJO TECNICO' 'DINAMICA' 'DISEÑO LOGICO DIGITAL'\n",
            " 'DOMOTICA' 'ELECTRICIDAD Y CIRCUITOS ELECTRICOS' 'ELECTROMAGNETISMO 1'\n",
            " 'ELECTRONICA 1' 'ELECTRONICA 2' 'ELEMENTOS DE MAQUINAS' 'ESTATICA'\n",
            " 'FENOMENOS DE TRANSPORTE' 'FISICA 1' 'FISICA 2' 'FISICA 3'\n",
            " 'FISICA DE SEMICONDUCTORES' 'FORMULACION Y GESTION DE PROYECTOS'\n",
            " 'FUNDAMENTOS DE ELECTRONICA INDUSTRIAL' 'GEOMETRIA ANALITICA'\n",
            " 'GEOMETRIA DESCRIPTIVA' 'GEST. DE CALIDAD E IMPACTO AMBIENTAL'\n",
            " 'GESTION DE LA CALIDAD Y MEDIO AMBIENTE' 'GESTION DE PROYECTOS'\n",
            " 'INMOTICA Y DOMOTICA' 'INSTR. PARA CONTROL Y AUTOM.'\n",
            " 'INSTRUMENTOS PARA CONTROL Y AUTOMATIZACION'\n",
            " 'INT. A LA PROGRAMACION DE CNC' 'INTELIGENCIA ARTIFICIAL'\n",
            " 'INTRODUCCION A LA INVESTIGACION' 'INTRODUCCION A LA SIMULACION'\n",
            " 'LABORATORIO DE REDES' 'LEGISLACION' 'LENGUAJE DE PROGRAMACION VISUAL'\n",
            " 'MATERIALES 1' 'MECANICA DE SOLIDOS' 'MECANISMOS'\n",
            " 'MECANIZADO CONVENCIONAL' 'METODOS NUMERICOS' 'NOCIONES DE DERECHO'\n",
            " 'ORGANIZACION DE EMPRESAS' 'ORGANIZACION DE EMPRESAS 1' 'PASANTIA'\n",
            " 'PASANTIAS' 'PROBABILIDAD Y ESTADISTICA' 'PROBABILIDAD Y ESTADISTICA '\n",
            " 'PROC. DIGITALES DE SEÑALES' 'PROCESAMIENTO DIGITAL DE SEÑALES'\n",
            " 'PROCESOS DE FABRICACION' 'PROGRAMACION ORIENTADA A OBJETOS'\n",
            " 'PROTOCOLO DE COMUNICACION' 'PROTOCOLOS DE COMUNICACION' 'PROYECTO 1'\n",
            " 'PROYECTO 2' 'PROYECTO 3' 'PROYECTO 4' 'QUIMICA GENERAL'\n",
            " 'REDES DE SENSORES INALAMBRICOS' 'REDES INDUSTRIALES'\n",
            " 'REDES INDUSTRIALES Y SCADA' 'ROBOTICA 1' 'ROBOTICA 2'\n",
            " 'SEGURIDAD EN EL TRABAJO' 'SEÑALES Y SISTEMAS'\n",
            " 'SIST. DE CONTROL AUTOMATICO 2' 'SISTEMA DE CONTROL AUTOMATICO 1'\n",
            " 'SISTEMAS DE CONTROL AUTOMATICO 1' 'SISTEMAS DE CONTROL AUTOMATICO 2'\n",
            " 'SISTEMAS DE CONTROL DIGITAL' 'SISTEMAS DIGITALES 1'\n",
            " 'SISTEMAS DIGITALES 2' 'SISTEMAS DISTRIBUIDOS'\n",
            " 'SISTEMAS HIDRAULICOS Y NEUMATICOS' 'TELEMETRIA Y TELECONTROL'\n",
            " 'TEORIA DE CIRCUITOS' 'TERMODINAMICA']\n"
          ]
        }
      ]
    },
    {
      "cell_type": "markdown",
      "source": [
        "tengo que eliminar las materias que no correponden a cursos basicos de un mecatronico"
      ],
      "metadata": {
        "id": "IIZOvMaIAPuo"
      }
    },
    {
      "cell_type": "code",
      "source": [
        "asig_mct_cb=['ALGEBRA LINEAL 1','ALGEBRA LINEAL 2','CALCULO 1', 'CALCULO 2','CALCULO 3','COMPUTACION','PROGRAMACION ORIENTADA A OBJETOS','DIBUJO TECNICO', 'DINAMICA', 'ELECTRICIDAD Y CIRCUITOS ELECTRICOS', 'ELECTROMAGNETISMO 1','ESTATICA','FISICA 1', 'FISICA 2','FISICA 3', 'FISICA DE SEMICONDUCTORES', 'GEOMETRIA ANALITICA','GEOMETRIA DESCRIPTIVA','METODOS NUMERICOS','PROBABILIDAD Y ESTADISTICA','PROBABILIDAD Y ESTADISTICA ','QUIMICA GENERAL','TEORIA DE CIRCUITOS']"
      ],
      "metadata": {
        "id": "V3tfOg9eqY8C"
      },
      "execution_count": 97,
      "outputs": []
    },
    {
      "cell_type": "code",
      "source": [
        "len(asig_mct_cb) \n"
      ],
      "metadata": {
        "colab": {
          "base_uri": "https://localhost:8080/"
        },
        "id": "1NCCSnU27Lz6",
        "outputId": "a0bc04b9-0593-40d2-f6a8-5c10282c03b4"
      },
      "execution_count": 98,
      "outputs": [
        {
          "output_type": "execute_result",
          "data": {
            "text/plain": [
              "23"
            ]
          },
          "metadata": {},
          "execution_count": 98
        }
      ]
    },
    {
      "cell_type": "markdown",
      "source": [
        "OBSERVACIONES: Proba se repite 2 veces y en la malla 2013 se cambio \"Elec. y circ. eléctricos\" por \"Electromagnetismo\". \n",
        "En la malla 2009 hay 20 materias en cb y en la malla 2013 hay 21."
      ],
      "metadata": {
        "id": "Z8JMmR1nAZqP"
      }
    },
    {
      "cell_type": "code",
      "source": [
        "carrerafiltrada=pd.DataFrame(columns=carrera.columns) # carrerafiltrada es un dataframe con los alumnos de cursos basicos \n",
        "for car in asig_mct_cb:\n",
        "     carrerafiltrada=pd.concat([carrerafiltrada, carrera[carrera[\"Asignatura\"]==car]], axis=0)"
      ],
      "metadata": {
        "id": "bHQ1GMErYQak"
      },
      "execution_count": 99,
      "outputs": []
    },
    {
      "cell_type": "code",
      "source": [
        "carrerafiltrada.head()"
      ],
      "metadata": {
        "colab": {
          "base_uri": "https://localhost:8080/",
          "height": 374
        },
        "id": "Ez9kZP4WmAOQ",
        "outputId": "3d2a9869-6e18-4057-d00c-eff8c40f5c01"
      },
      "execution_count": 100,
      "outputs": [
        {
          "output_type": "execute_result",
          "data": {
            "text/plain": [
              "      Unnamed: 0 danho ciclo Cod.Asign        Asignatura Cod.Car.Sec  \\\n",
              "14982       7551  2012     2      9004  ALGEBRA LINEAL 1  MCT-PLS09    \n",
              "14984       7553  2012     2      9004  ALGEBRA LINEAL 1  MCT-PLS09    \n",
              "14990       7559  2012     2      9004  ALGEBRA LINEAL 1  MCT-PLS09    \n",
              "14991       7560  2012     2      9004  ALGEBRA LINEAL 1  MCT-PLS09    \n",
              "14999       7568  2012     2      9004  ALGEBRA LINEAL 1  MCT-PLS09    \n",
              "\n",
              "      Cod.Curso Convocatoria  Anho Semestre Aprobado Anho.Firma Primer.Par  \\\n",
              "14982         1            1  2012        2        S       2011          0   \n",
              "14984         1            1  2012        2        S       2012          4   \n",
              "14990         1            1  2012        2        N          0          0   \n",
              "14991         1            1  2012        2        S       2012         14   \n",
              "14999         1            1  2012        2        N          0         10   \n",
              "\n",
              "      Segundo.Par AOT Primer.Rec Segundo.Rec Nota.Final  Tercer.Par  Asis  \\\n",
              "14982           0   0          0           0       1F-2         0.0   0.0   \n",
              "14984          28   9          0           0       1F-2         0.0   1.0   \n",
              "14990           0   6          0           0        NaN         0.0   1.0   \n",
              "14991          28   9          0           0       1F-3         0.0   1.0   \n",
              "14999           2   9          0           0        NaN         0.0   1.0   \n",
              "\n",
              "       Cuarto.Par  4P_60 id_anony  \n",
              "14982         NaN    NaN  es_1116  \n",
              "14984         NaN    NaN  es_1119  \n",
              "14990         NaN    NaN  es_1510  \n",
              "14991         NaN    NaN  es_1127  \n",
              "14999         NaN    NaN  es_1514  "
            ],
            "text/html": [
              "\n",
              "  <div id=\"df-54e92955-c9ac-4ab9-9a10-206268a1d26e\">\n",
              "    <div class=\"colab-df-container\">\n",
              "      <div>\n",
              "<style scoped>\n",
              "    .dataframe tbody tr th:only-of-type {\n",
              "        vertical-align: middle;\n",
              "    }\n",
              "\n",
              "    .dataframe tbody tr th {\n",
              "        vertical-align: top;\n",
              "    }\n",
              "\n",
              "    .dataframe thead th {\n",
              "        text-align: right;\n",
              "    }\n",
              "</style>\n",
              "<table border=\"1\" class=\"dataframe\">\n",
              "  <thead>\n",
              "    <tr style=\"text-align: right;\">\n",
              "      <th></th>\n",
              "      <th>Unnamed: 0</th>\n",
              "      <th>danho</th>\n",
              "      <th>ciclo</th>\n",
              "      <th>Cod.Asign</th>\n",
              "      <th>Asignatura</th>\n",
              "      <th>Cod.Car.Sec</th>\n",
              "      <th>Cod.Curso</th>\n",
              "      <th>Convocatoria</th>\n",
              "      <th>Anho</th>\n",
              "      <th>Semestre</th>\n",
              "      <th>Aprobado</th>\n",
              "      <th>Anho.Firma</th>\n",
              "      <th>Primer.Par</th>\n",
              "      <th>Segundo.Par</th>\n",
              "      <th>AOT</th>\n",
              "      <th>Primer.Rec</th>\n",
              "      <th>Segundo.Rec</th>\n",
              "      <th>Nota.Final</th>\n",
              "      <th>Tercer.Par</th>\n",
              "      <th>Asis</th>\n",
              "      <th>Cuarto.Par</th>\n",
              "      <th>4P_60</th>\n",
              "      <th>id_anony</th>\n",
              "    </tr>\n",
              "  </thead>\n",
              "  <tbody>\n",
              "    <tr>\n",
              "      <th>14982</th>\n",
              "      <td>7551</td>\n",
              "      <td>2012</td>\n",
              "      <td>2</td>\n",
              "      <td>9004</td>\n",
              "      <td>ALGEBRA LINEAL 1</td>\n",
              "      <td>MCT-PLS09</td>\n",
              "      <td>1</td>\n",
              "      <td>1</td>\n",
              "      <td>2012</td>\n",
              "      <td>2</td>\n",
              "      <td>S</td>\n",
              "      <td>2011</td>\n",
              "      <td>0</td>\n",
              "      <td>0</td>\n",
              "      <td>0</td>\n",
              "      <td>0</td>\n",
              "      <td>0</td>\n",
              "      <td>1F-2</td>\n",
              "      <td>0.0</td>\n",
              "      <td>0.0</td>\n",
              "      <td>NaN</td>\n",
              "      <td>NaN</td>\n",
              "      <td>es_1116</td>\n",
              "    </tr>\n",
              "    <tr>\n",
              "      <th>14984</th>\n",
              "      <td>7553</td>\n",
              "      <td>2012</td>\n",
              "      <td>2</td>\n",
              "      <td>9004</td>\n",
              "      <td>ALGEBRA LINEAL 1</td>\n",
              "      <td>MCT-PLS09</td>\n",
              "      <td>1</td>\n",
              "      <td>1</td>\n",
              "      <td>2012</td>\n",
              "      <td>2</td>\n",
              "      <td>S</td>\n",
              "      <td>2012</td>\n",
              "      <td>4</td>\n",
              "      <td>28</td>\n",
              "      <td>9</td>\n",
              "      <td>0</td>\n",
              "      <td>0</td>\n",
              "      <td>1F-2</td>\n",
              "      <td>0.0</td>\n",
              "      <td>1.0</td>\n",
              "      <td>NaN</td>\n",
              "      <td>NaN</td>\n",
              "      <td>es_1119</td>\n",
              "    </tr>\n",
              "    <tr>\n",
              "      <th>14990</th>\n",
              "      <td>7559</td>\n",
              "      <td>2012</td>\n",
              "      <td>2</td>\n",
              "      <td>9004</td>\n",
              "      <td>ALGEBRA LINEAL 1</td>\n",
              "      <td>MCT-PLS09</td>\n",
              "      <td>1</td>\n",
              "      <td>1</td>\n",
              "      <td>2012</td>\n",
              "      <td>2</td>\n",
              "      <td>N</td>\n",
              "      <td>0</td>\n",
              "      <td>0</td>\n",
              "      <td>0</td>\n",
              "      <td>6</td>\n",
              "      <td>0</td>\n",
              "      <td>0</td>\n",
              "      <td>NaN</td>\n",
              "      <td>0.0</td>\n",
              "      <td>1.0</td>\n",
              "      <td>NaN</td>\n",
              "      <td>NaN</td>\n",
              "      <td>es_1510</td>\n",
              "    </tr>\n",
              "    <tr>\n",
              "      <th>14991</th>\n",
              "      <td>7560</td>\n",
              "      <td>2012</td>\n",
              "      <td>2</td>\n",
              "      <td>9004</td>\n",
              "      <td>ALGEBRA LINEAL 1</td>\n",
              "      <td>MCT-PLS09</td>\n",
              "      <td>1</td>\n",
              "      <td>1</td>\n",
              "      <td>2012</td>\n",
              "      <td>2</td>\n",
              "      <td>S</td>\n",
              "      <td>2012</td>\n",
              "      <td>14</td>\n",
              "      <td>28</td>\n",
              "      <td>9</td>\n",
              "      <td>0</td>\n",
              "      <td>0</td>\n",
              "      <td>1F-3</td>\n",
              "      <td>0.0</td>\n",
              "      <td>1.0</td>\n",
              "      <td>NaN</td>\n",
              "      <td>NaN</td>\n",
              "      <td>es_1127</td>\n",
              "    </tr>\n",
              "    <tr>\n",
              "      <th>14999</th>\n",
              "      <td>7568</td>\n",
              "      <td>2012</td>\n",
              "      <td>2</td>\n",
              "      <td>9004</td>\n",
              "      <td>ALGEBRA LINEAL 1</td>\n",
              "      <td>MCT-PLS09</td>\n",
              "      <td>1</td>\n",
              "      <td>1</td>\n",
              "      <td>2012</td>\n",
              "      <td>2</td>\n",
              "      <td>N</td>\n",
              "      <td>0</td>\n",
              "      <td>10</td>\n",
              "      <td>2</td>\n",
              "      <td>9</td>\n",
              "      <td>0</td>\n",
              "      <td>0</td>\n",
              "      <td>NaN</td>\n",
              "      <td>0.0</td>\n",
              "      <td>1.0</td>\n",
              "      <td>NaN</td>\n",
              "      <td>NaN</td>\n",
              "      <td>es_1514</td>\n",
              "    </tr>\n",
              "  </tbody>\n",
              "</table>\n",
              "</div>\n",
              "      <button class=\"colab-df-convert\" onclick=\"convertToInteractive('df-54e92955-c9ac-4ab9-9a10-206268a1d26e')\"\n",
              "              title=\"Convert this dataframe to an interactive table.\"\n",
              "              style=\"display:none;\">\n",
              "        \n",
              "  <svg xmlns=\"http://www.w3.org/2000/svg\" height=\"24px\"viewBox=\"0 0 24 24\"\n",
              "       width=\"24px\">\n",
              "    <path d=\"M0 0h24v24H0V0z\" fill=\"none\"/>\n",
              "    <path d=\"M18.56 5.44l.94 2.06.94-2.06 2.06-.94-2.06-.94-.94-2.06-.94 2.06-2.06.94zm-11 1L8.5 8.5l.94-2.06 2.06-.94-2.06-.94L8.5 2.5l-.94 2.06-2.06.94zm10 10l.94 2.06.94-2.06 2.06-.94-2.06-.94-.94-2.06-.94 2.06-2.06.94z\"/><path d=\"M17.41 7.96l-1.37-1.37c-.4-.4-.92-.59-1.43-.59-.52 0-1.04.2-1.43.59L10.3 9.45l-7.72 7.72c-.78.78-.78 2.05 0 2.83L4 21.41c.39.39.9.59 1.41.59.51 0 1.02-.2 1.41-.59l7.78-7.78 2.81-2.81c.8-.78.8-2.07 0-2.86zM5.41 20L4 18.59l7.72-7.72 1.47 1.35L5.41 20z\"/>\n",
              "  </svg>\n",
              "      </button>\n",
              "      \n",
              "  <style>\n",
              "    .colab-df-container {\n",
              "      display:flex;\n",
              "      flex-wrap:wrap;\n",
              "      gap: 12px;\n",
              "    }\n",
              "\n",
              "    .colab-df-convert {\n",
              "      background-color: #E8F0FE;\n",
              "      border: none;\n",
              "      border-radius: 50%;\n",
              "      cursor: pointer;\n",
              "      display: none;\n",
              "      fill: #1967D2;\n",
              "      height: 32px;\n",
              "      padding: 0 0 0 0;\n",
              "      width: 32px;\n",
              "    }\n",
              "\n",
              "    .colab-df-convert:hover {\n",
              "      background-color: #E2EBFA;\n",
              "      box-shadow: 0px 1px 2px rgba(60, 64, 67, 0.3), 0px 1px 3px 1px rgba(60, 64, 67, 0.15);\n",
              "      fill: #174EA6;\n",
              "    }\n",
              "\n",
              "    [theme=dark] .colab-df-convert {\n",
              "      background-color: #3B4455;\n",
              "      fill: #D2E3FC;\n",
              "    }\n",
              "\n",
              "    [theme=dark] .colab-df-convert:hover {\n",
              "      background-color: #434B5C;\n",
              "      box-shadow: 0px 1px 3px 1px rgba(0, 0, 0, 0.15);\n",
              "      filter: drop-shadow(0px 1px 2px rgba(0, 0, 0, 0.3));\n",
              "      fill: #FFFFFF;\n",
              "    }\n",
              "  </style>\n",
              "\n",
              "      <script>\n",
              "        const buttonEl =\n",
              "          document.querySelector('#df-54e92955-c9ac-4ab9-9a10-206268a1d26e button.colab-df-convert');\n",
              "        buttonEl.style.display =\n",
              "          google.colab.kernel.accessAllowed ? 'block' : 'none';\n",
              "\n",
              "        async function convertToInteractive(key) {\n",
              "          const element = document.querySelector('#df-54e92955-c9ac-4ab9-9a10-206268a1d26e');\n",
              "          const dataTable =\n",
              "            await google.colab.kernel.invokeFunction('convertToInteractive',\n",
              "                                                     [key], {});\n",
              "          if (!dataTable) return;\n",
              "\n",
              "          const docLinkHtml = 'Like what you see? Visit the ' +\n",
              "            '<a target=\"_blank\" href=https://colab.research.google.com/notebooks/data_table.ipynb>data table notebook</a>'\n",
              "            + ' to learn more about interactive tables.';\n",
              "          element.innerHTML = '';\n",
              "          dataTable['output_type'] = 'display_data';\n",
              "          await google.colab.output.renderOutput(dataTable, element);\n",
              "          const docLink = document.createElement('div');\n",
              "          docLink.innerHTML = docLinkHtml;\n",
              "          element.appendChild(docLink);\n",
              "        }\n",
              "      </script>\n",
              "    </div>\n",
              "  </div>\n",
              "  "
            ]
          },
          "metadata": {},
          "execution_count": 100
        }
      ]
    },
    {
      "cell_type": "code",
      "source": [
        "carrcarrerafiltrada= carrerafiltrada.replace(['ELECTRICIDAD Y CIRCUITOS ELECTRICOS'],'ELECTROMAGNETISMO 1')\n",
        "carrerafiltrada= carrerafiltrada.replace(['PROBABILIDAD Y ESTADISTICA ' ],'PROBABILIDAD Y ESTADISTICA')\n",
        "materias=np.unique(carrerafiltrada['Asignatura']) \n"
      ],
      "metadata": {
        "id": "XxfqBJBF_yPJ"
      },
      "execution_count": 101,
      "outputs": []
    },
    {
      "cell_type": "code",
      "source": [
        "cant=np.unique(carrerafiltrada['id_anony']) #esto es para saber la cantidad de alumnos que hay\n",
        "print(len(cant)) #esta es la cantidad de alumnos que cursan o cursaron cursos basicos"
      ],
      "metadata": {
        "id": "AzuDhJP5A5k7",
        "colab": {
          "base_uri": "https://localhost:8080/"
        },
        "outputId": "68cd6ef4-3720-4c7d-af1a-075e0c8b7f22"
      },
      "execution_count": 102,
      "outputs": [
        {
          "output_type": "stream",
          "name": "stdout",
          "text": [
            "632\n"
          ]
        }
      ]
    },
    {
      "cell_type": "code",
      "source": [
        "#esto sirve para descargar en excel \n",
        "#from google.colab import files\n",
        "#carrerafiltrada.to_csv('carrerafiltrada.csv')\n",
        "#files.download('carrerafiltrada.csv')"
      ],
      "metadata": {
        "id": "L9D2RhWX0Wn2"
      },
      "execution_count": 103,
      "outputs": []
    },
    {
      "cell_type": "markdown",
      "source": [
        "La idea es crear un  nuevo DataFrame con los alumnos de mct que cursan cb teniendo como datos el numero de veces que recursaron y la cantidad de materias que pasaron."
      ],
      "metadata": {
        "id": "9_--HXGxZOm8"
      }
    },
    {
      "cell_type": "code",
      "source": [
        "  materiaspaso=[] #Cantidad de materias que ya aprobo\n",
        "  pasoCB=[] # 1 si ya aprobo CB, 0 si aun no\n",
        "  tardocb=[] # Cantidad de años que tardo o esta tardando \n",
        "  danhoini=[] # Año que curso\n",
        "  id=[] #Alumnos\n",
        "  codcarsec=[] # Codigo de Carrera\n",
        "  anhofin=[] #Año que finalizo\n",
        "  recursadas=[] #Cantidad de veces que recurso"
      ],
      "metadata": {
        "id": "6p8Cd5y4XP7A"
      },
      "execution_count": 104,
      "outputs": []
    },
    {
      "cell_type": "code",
      "source": [
        "for alum in cant:\n",
        "  paso = 0\n",
        "  recurso = 0\n",
        "  pasCB=0\n",
        "  aux= carrerafiltrada[carrerafiltrada['id_anony']==alum]\n",
        "  plan= np.unique(aux['Cod.Car.Sec'])\n",
        "  aux2= aux[aux['Aprobado']=='S']\n",
        "  aux2=aux2.drop_duplicates(subset=['Asignatura'])# elimine las filas repetidas con misma Asignatura\n",
        "  paso= len(aux2['Aprobado'])\n",
        "  aux3=aux[aux['Aprobado']=='N']\n",
        "  aux3=aux3.drop_duplicates(subset=['Asignatura','Anho','ciclo','danho'])#elimine filas con mismo Anho,danho,Asignatura y ciclo\n",
        "  recurso= len(aux3['Aprobado'])\n",
        "  tardo = aux['Anho'].max() - aux['danho'].min() #es lo que tardo o esta tardando en pasar\n",
        "  if plan[0] == 'MEC-PLS13' and paso>20:\n",
        "    pasCB=1\n",
        "  if plan[0]!='MEC-PLS13' and paso>19:\n",
        "    pasCB=1\n",
        "  materiaspaso.append(paso)\n",
        "  tardocb.append(tardo)\n",
        "  danhoini.append(aux['danho'].min())\n",
        "  id.append(alum)\n",
        "  codcarsec.append(plan[0])\n",
        "  anhofin.append(aux['Anho'].max() )\n",
        "  recursadas.append(recurso)\n",
        "  pasoCB.append(pasCB)"
      ],
      "metadata": {
        "id": "2s6wpV3v67FJ"
      },
      "execution_count": 105,
      "outputs": []
    },
    {
      "cell_type": "code",
      "source": [
        "new= pd.DataFrame({'danho':danhoini,'id_anony':id,'Cod.Car.Sec':codcarsec,\t'Anho':anhofin,'recurso':recursadas,'Cant.Mat.Aprob':materiaspaso,'tardoCB':tardocb,'PasoCB':pasoCB })\n",
        "new2=new[new['PasoCB']==1]\n",
        "new2.head()\n"
      ],
      "metadata": {
        "id": "sUqPblz8dlOx",
        "colab": {
          "base_uri": "https://localhost:8080/",
          "height": 206
        },
        "outputId": "ab4d739c-430d-4804-fbfd-cba39148620d"
      },
      "execution_count": 106,
      "outputs": [
        {
          "output_type": "execute_result",
          "data": {
            "text/plain": [
              "     danho id_anony Cod.Car.Sec  Anho  recurso  Cant.Mat.Aprob  tardoCB  \\\n",
              "102   2012  es_1756  MCT-PLS09   2015        7              20        3   \n",
              "107   2012  es_1778  MCT-PLS09   2016        8              20        4   \n",
              "112   2013  es_1815  MCT-PLS13   2018       12              21        5   \n",
              "116   2013  es_1830  MCT-PLS13   2015        1              20        2   \n",
              "117   2013  es_1841  MCT-PLS13   2017        7              20        4   \n",
              "\n",
              "     PasoCB  \n",
              "102       1  \n",
              "107       1  \n",
              "112       1  \n",
              "116       1  \n",
              "117       1  "
            ],
            "text/html": [
              "\n",
              "  <div id=\"df-fbeaf46e-5c77-4e8a-a16f-439d1eacba9c\">\n",
              "    <div class=\"colab-df-container\">\n",
              "      <div>\n",
              "<style scoped>\n",
              "    .dataframe tbody tr th:only-of-type {\n",
              "        vertical-align: middle;\n",
              "    }\n",
              "\n",
              "    .dataframe tbody tr th {\n",
              "        vertical-align: top;\n",
              "    }\n",
              "\n",
              "    .dataframe thead th {\n",
              "        text-align: right;\n",
              "    }\n",
              "</style>\n",
              "<table border=\"1\" class=\"dataframe\">\n",
              "  <thead>\n",
              "    <tr style=\"text-align: right;\">\n",
              "      <th></th>\n",
              "      <th>danho</th>\n",
              "      <th>id_anony</th>\n",
              "      <th>Cod.Car.Sec</th>\n",
              "      <th>Anho</th>\n",
              "      <th>recurso</th>\n",
              "      <th>Cant.Mat.Aprob</th>\n",
              "      <th>tardoCB</th>\n",
              "      <th>PasoCB</th>\n",
              "    </tr>\n",
              "  </thead>\n",
              "  <tbody>\n",
              "    <tr>\n",
              "      <th>102</th>\n",
              "      <td>2012</td>\n",
              "      <td>es_1756</td>\n",
              "      <td>MCT-PLS09</td>\n",
              "      <td>2015</td>\n",
              "      <td>7</td>\n",
              "      <td>20</td>\n",
              "      <td>3</td>\n",
              "      <td>1</td>\n",
              "    </tr>\n",
              "    <tr>\n",
              "      <th>107</th>\n",
              "      <td>2012</td>\n",
              "      <td>es_1778</td>\n",
              "      <td>MCT-PLS09</td>\n",
              "      <td>2016</td>\n",
              "      <td>8</td>\n",
              "      <td>20</td>\n",
              "      <td>4</td>\n",
              "      <td>1</td>\n",
              "    </tr>\n",
              "    <tr>\n",
              "      <th>112</th>\n",
              "      <td>2013</td>\n",
              "      <td>es_1815</td>\n",
              "      <td>MCT-PLS13</td>\n",
              "      <td>2018</td>\n",
              "      <td>12</td>\n",
              "      <td>21</td>\n",
              "      <td>5</td>\n",
              "      <td>1</td>\n",
              "    </tr>\n",
              "    <tr>\n",
              "      <th>116</th>\n",
              "      <td>2013</td>\n",
              "      <td>es_1830</td>\n",
              "      <td>MCT-PLS13</td>\n",
              "      <td>2015</td>\n",
              "      <td>1</td>\n",
              "      <td>20</td>\n",
              "      <td>2</td>\n",
              "      <td>1</td>\n",
              "    </tr>\n",
              "    <tr>\n",
              "      <th>117</th>\n",
              "      <td>2013</td>\n",
              "      <td>es_1841</td>\n",
              "      <td>MCT-PLS13</td>\n",
              "      <td>2017</td>\n",
              "      <td>7</td>\n",
              "      <td>20</td>\n",
              "      <td>4</td>\n",
              "      <td>1</td>\n",
              "    </tr>\n",
              "  </tbody>\n",
              "</table>\n",
              "</div>\n",
              "      <button class=\"colab-df-convert\" onclick=\"convertToInteractive('df-fbeaf46e-5c77-4e8a-a16f-439d1eacba9c')\"\n",
              "              title=\"Convert this dataframe to an interactive table.\"\n",
              "              style=\"display:none;\">\n",
              "        \n",
              "  <svg xmlns=\"http://www.w3.org/2000/svg\" height=\"24px\"viewBox=\"0 0 24 24\"\n",
              "       width=\"24px\">\n",
              "    <path d=\"M0 0h24v24H0V0z\" fill=\"none\"/>\n",
              "    <path d=\"M18.56 5.44l.94 2.06.94-2.06 2.06-.94-2.06-.94-.94-2.06-.94 2.06-2.06.94zm-11 1L8.5 8.5l.94-2.06 2.06-.94-2.06-.94L8.5 2.5l-.94 2.06-2.06.94zm10 10l.94 2.06.94-2.06 2.06-.94-2.06-.94-.94-2.06-.94 2.06-2.06.94z\"/><path d=\"M17.41 7.96l-1.37-1.37c-.4-.4-.92-.59-1.43-.59-.52 0-1.04.2-1.43.59L10.3 9.45l-7.72 7.72c-.78.78-.78 2.05 0 2.83L4 21.41c.39.39.9.59 1.41.59.51 0 1.02-.2 1.41-.59l7.78-7.78 2.81-2.81c.8-.78.8-2.07 0-2.86zM5.41 20L4 18.59l7.72-7.72 1.47 1.35L5.41 20z\"/>\n",
              "  </svg>\n",
              "      </button>\n",
              "      \n",
              "  <style>\n",
              "    .colab-df-container {\n",
              "      display:flex;\n",
              "      flex-wrap:wrap;\n",
              "      gap: 12px;\n",
              "    }\n",
              "\n",
              "    .colab-df-convert {\n",
              "      background-color: #E8F0FE;\n",
              "      border: none;\n",
              "      border-radius: 50%;\n",
              "      cursor: pointer;\n",
              "      display: none;\n",
              "      fill: #1967D2;\n",
              "      height: 32px;\n",
              "      padding: 0 0 0 0;\n",
              "      width: 32px;\n",
              "    }\n",
              "\n",
              "    .colab-df-convert:hover {\n",
              "      background-color: #E2EBFA;\n",
              "      box-shadow: 0px 1px 2px rgba(60, 64, 67, 0.3), 0px 1px 3px 1px rgba(60, 64, 67, 0.15);\n",
              "      fill: #174EA6;\n",
              "    }\n",
              "\n",
              "    [theme=dark] .colab-df-convert {\n",
              "      background-color: #3B4455;\n",
              "      fill: #D2E3FC;\n",
              "    }\n",
              "\n",
              "    [theme=dark] .colab-df-convert:hover {\n",
              "      background-color: #434B5C;\n",
              "      box-shadow: 0px 1px 3px 1px rgba(0, 0, 0, 0.15);\n",
              "      filter: drop-shadow(0px 1px 2px rgba(0, 0, 0, 0.3));\n",
              "      fill: #FFFFFF;\n",
              "    }\n",
              "  </style>\n",
              "\n",
              "      <script>\n",
              "        const buttonEl =\n",
              "          document.querySelector('#df-fbeaf46e-5c77-4e8a-a16f-439d1eacba9c button.colab-df-convert');\n",
              "        buttonEl.style.display =\n",
              "          google.colab.kernel.accessAllowed ? 'block' : 'none';\n",
              "\n",
              "        async function convertToInteractive(key) {\n",
              "          const element = document.querySelector('#df-fbeaf46e-5c77-4e8a-a16f-439d1eacba9c');\n",
              "          const dataTable =\n",
              "            await google.colab.kernel.invokeFunction('convertToInteractive',\n",
              "                                                     [key], {});\n",
              "          if (!dataTable) return;\n",
              "\n",
              "          const docLinkHtml = 'Like what you see? Visit the ' +\n",
              "            '<a target=\"_blank\" href=https://colab.research.google.com/notebooks/data_table.ipynb>data table notebook</a>'\n",
              "            + ' to learn more about interactive tables.';\n",
              "          element.innerHTML = '';\n",
              "          dataTable['output_type'] = 'display_data';\n",
              "          await google.colab.output.renderOutput(dataTable, element);\n",
              "          const docLink = document.createElement('div');\n",
              "          docLink.innerHTML = docLinkHtml;\n",
              "          element.appendChild(docLink);\n",
              "        }\n",
              "      </script>\n",
              "    </div>\n",
              "  </div>\n",
              "  "
            ]
          },
          "metadata": {},
          "execution_count": 106
        }
      ]
    },
    {
      "cell_type": "markdown",
      "source": [
        "Este histograma representa los años que los alumnos estan cursando CB"
      ],
      "metadata": {
        "id": "hHPB2yTj0UFo"
      }
    },
    {
      "cell_type": "code",
      "source": [
        "new.hist(column='tardoCB') "
      ],
      "metadata": {
        "colab": {
          "base_uri": "https://localhost:8080/",
          "height": 315
        },
        "id": "bRvxUQddwsUB",
        "outputId": "a03fbeff-dde8-423f-c95d-b2ee822c373b"
      },
      "execution_count": 108,
      "outputs": [
        {
          "output_type": "execute_result",
          "data": {
            "text/plain": [
              "array([[<matplotlib.axes._subplots.AxesSubplot object at 0x7fb10787f810>]],\n",
              "      dtype=object)"
            ]
          },
          "metadata": {},
          "execution_count": 108
        },
        {
          "output_type": "display_data",
          "data": {
            "text/plain": [
              "<Figure size 432x288 with 1 Axes>"
            ],
            "image/png": "[encoded data removed]"
          },
          "metadata": {
            "needs_background": "light"
          }
        }
      ]
    },
    {
      "cell_type": "markdown",
      "source": [
        "Representacion de los alumnos que ya pasaron "
      ],
      "metadata": {
        "id": "Zv1IVlqx0q4r"
      }
    },
    {
      "cell_type": "code",
      "source": [
        "new2.hist(column='tardoCB') \n",
        "len(new2['tardoCB']) #cantidad de alumnos que ya pasaron CB"
      ],
      "metadata": {
        "colab": {
          "base_uri": "https://localhost:8080/",
          "height": 298
        },
        "id": "guk4AIZr09PU",
        "outputId": "1b0a71d7-d9a4-42b4-bd98-2792e0d9df25"
      },
      "execution_count": 109,
      "outputs": [
        {
          "output_type": "execute_result",
          "data": {
            "text/plain": [
              "113"
            ]
          },
          "metadata": {},
          "execution_count": 109
        },
        {
          "output_type": "display_data",
          "data": {
            "text/plain": [
              "<Figure size 432x288 with 1 Axes>"
            ],
            "image/png": "[encoded data removed]"
          },
          "metadata": {
            "needs_background": "light"
          }
        }
      ]
    },
    {
      "cell_type": "markdown",
      "source": [
        "Media y Mediana en años"
      ],
      "metadata": {
        "id": "Mr6THbxH2kvX"
      }
    },
    {
      "cell_type": "code",
      "source": [
        "new2['tardoCB'].mean() "
      ],
      "metadata": {
        "colab": {
          "base_uri": "https://localhost:8080/"
        },
        "id": "E2Xq15FfgQ31",
        "outputId": "1b4cad55-f418-4684-ea45-4eff2f3207e5"
      },
      "execution_count": 110,
      "outputs": [
        {
          "output_type": "execute_result",
          "data": {
            "text/plain": [
              "3.1327433628318584"
            ]
          },
          "metadata": {},
          "execution_count": 110
        }
      ]
    },
    {
      "cell_type": "code",
      "source": [
        "new2['tardoCB'].median()"
      ],
      "metadata": {
        "colab": {
          "base_uri": "https://localhost:8080/"
        },
        "id": "3Q4vPy-Q136T",
        "outputId": "511eea54-8b5f-478a-ea7b-b8635c6bbc6f"
      },
      "execution_count": 111,
      "outputs": [
        {
          "output_type": "execute_result",
          "data": {
            "text/plain": [
              "3.0"
            ]
          },
          "metadata": {},
          "execution_count": 111
        }
      ]
    },
    {
      "cell_type": "code",
      "source": [
        "#esto sirve para descargar en excel \n",
        "#from google.colab import files\n",
        "#carrerafiltrada.to_csv('carrerafiltrada.csv')\n",
        "#files.download('carrerafiltrada.csv')"
      ],
      "metadata": {
        "id": "LKXFscbUEIQu"
      },
      "execution_count": 112,
      "outputs": []
    },
    {
      "cell_type": "markdown",
      "source": [
        "#REGRESION LINEAL\n"
      ],
      "metadata": {
        "id": "Ly4zV9hjL2Y0"
      }
    },
    {
      "cell_type": "code",
      "source": [
        "from sklearn import linear_model, model_selection\n",
        "from sklearn.linear_model import LinearRegression\n",
        "from sklearn.model_selection import train_test_split"
      ],
      "metadata": {
        "id": "NkOAaepHL-hR"
      },
      "execution_count": 113,
      "outputs": []
    },
    {
      "cell_type": "code",
      "source": [
        "fig,ax= plt.subplots(figsize=(10,10))\n",
        "sns.heatmap(new2.corr())"
      ],
      "metadata": {
        "colab": {
          "base_uri": "https://localhost:8080/",
          "height": 612
        },
        "id": "-HFNkrgfTwh6",
        "outputId": "771de17e-e4fb-4451-b58e-83e4e0326bab"
      },
      "execution_count": 121,
      "outputs": [
        {
          "output_type": "execute_result",
          "data": {
            "text/plain": [
              "<matplotlib.axes._subplots.AxesSubplot at 0x7fb1077a5950>"
            ]
          },
          "metadata": {},
          "execution_count": 121
        },
        {
          "output_type": "display_data",
          "data": {
            "text/plain": [
              "<Figure size 720x720 with 2 Axes>"
            ],
            "image/png": "[encoded data removed]"
          },
          "metadata": {
            "needs_background": "light"
          }
        }
      ]
    },
    {
      "cell_type": "code",
      "source": [
        "x=new2[['recurso','Anho',]].values\n",
        "y=new2['tardoCB'].values"
      ],
      "metadata": {
        "id": "-3cY_Ze_diM7"
      },
      "execution_count": 127,
      "outputs": []
    },
    {
      "cell_type": "code",
      "source": [
        "X_train, X_test, y_train, y_test = train_test_split(x, y, test_size=0.11,random_state=113)"
      ],
      "metadata": {
        "id": "bOWWKiBneGe2"
      },
      "execution_count": 128,
      "outputs": []
    },
    {
      "cell_type": "code",
      "source": [
        "LR = LinearRegression()\n",
        "LR.fit(X_train,y_train)"
      ],
      "metadata": {
        "colab": {
          "base_uri": "https://localhost:8080/"
        },
        "id": "iTT0W_efeM6r",
        "outputId": "367d2b19-503e-41b7-da7a-77b02fd203ea"
      },
      "execution_count": 129,
      "outputs": [
        {
          "output_type": "execute_result",
          "data": {
            "text/plain": [
              "LinearRegression()"
            ]
          },
          "metadata": {},
          "execution_count": 129
        }
      ]
    },
    {
      "cell_type": "code",
      "source": [
        "len(X_test)"
      ],
      "metadata": {
        "colab": {
          "base_uri": "https://localhost:8080/"
        },
        "id": "7Jok9GTXimqx",
        "outputId": "7f597f7d-9b5c-4485-8a43-2a2f73f90e27"
      },
      "execution_count": 130,
      "outputs": [
        {
          "output_type": "execute_result",
          "data": {
            "text/plain": [
              "13"
            ]
          },
          "metadata": {},
          "execution_count": 130
        }
      ]
    },
    {
      "cell_type": "markdown",
      "source": [
        "# PREDICCIONES"
      ],
      "metadata": {
        "id": "G8vpHHvr_c5m"
      }
    },
    {
      "cell_type": "code",
      "source": [
        "predictions = LR.predict(X_test)\n",
        "plt.scatter(y_test,predictions)"
      ],
      "metadata": {
        "colab": {
          "base_uri": "https://localhost:8080/",
          "height": 282
        },
        "id": "nQ_dJWgIemWC",
        "outputId": "f9033336-107c-4bc3-fad6-ee4dc8ae92ca"
      },
      "execution_count": 134,
      "outputs": [
        {
          "output_type": "execute_result",
          "data": {
            "text/plain": [
              "<matplotlib.collections.PathCollection at 0x7fb0fd813190>"
            ]
          },
          "metadata": {},
          "execution_count": 134
        },
        {
          "output_type": "display_data",
          "data": {
            "text/plain": [
              "<Figure size 432x288 with 1 Axes>"
            ],
            "image/png": "[encoded data removed]"
          },
          "metadata": {
            "needs_background": "light"
          }
        }
      ]
    },
    {
      "cell_type": "markdown",
      "source": [
        "## Regression Evaluation Metrics\n",
        "**Mean Absolute Error** (MAE) is the mean of the absolute value of the errors:\n",
        "\n",
        "$$\\frac 1n\\sum_{i=1}^n|y_i-\\hat{y}_i|$$\n",
        "\n",
        "**Mean Squared Error** (MSE) is the mean of the squared errors:\n",
        "\n",
        "$$\\frac 1n\\sum_{i=1}^n(y_i-\\hat{y}_i)^2$$\n",
        "\n",
        "**Root Mean Squared Error** (RMSE) is the square root of the mean of the squared errors:\n",
        "\n",
        "$$\\sqrt{\\frac 1n\\sum_{i=1}^n(y_i-\\hat{y}_i)^2}$$\n",
        "\n",
        "Comparing these metrics:\n",
        "\n",
        "    **MAE** es el más fácil de entender, porque es el error promedio.\n",
        "    **MSE** es más popular que MAE, porque MSE \"castiga\" los errores mayores, lo que tiende a ser útil en el mundo real.\n",
        "    **RMSE** es aún más popular que la MSE, porque la RMSE es interpretable en las unidades \"y\".\n"
      ],
      "metadata": {
        "id": "iQyGisa2-wek"
      }
    },
    {
      "cell_type": "code",
      "source": [
        "from sklearn import metrics\n",
        "print('MAE:', metrics.mean_absolute_error(y_test, predictions))\n",
        "print('MSE:', metrics.mean_squared_error(y_test, predictions))\n",
        "print('RMSE:', np.sqrt(metrics.mean_squared_error(y_test, predictions)))"
      ],
      "metadata": {
        "colab": {
          "base_uri": "https://localhost:8080/"
        },
        "id": "940gcGYD_Dou",
        "outputId": "c65f5e85-f4bd-43fb-9533-fec6798f0c52"
      },
      "execution_count": 132,
      "outputs": [
        {
          "output_type": "stream",
          "name": "stdout",
          "text": [
            "MAE: 0.4722407176926752\n",
            "MSE: 0.2932734000612981\n",
            "RMSE: 0.5415472279139633\n"
          ]
        }
      ]
    }
  ]
}